{
 "cells": [
  {
   "cell_type": "code",
   "execution_count": 9,
   "id": "5901cdde-970e-4c8b-9e1a-485d262db99a",
   "metadata": {},
   "outputs": [
    {
     "name": "stdout",
     "output_type": "stream",
     "text": [
      "Labels updated successfully.\n"
     ]
    }
   ],
   "source": [
    "import requests\n",
    "from requests.auth import HTTPBasicAuth\n",
    "import json\n",
    "\n",
    "\n",
    "JIRA_DOMAIN = 'hashagile-team.atlassian.net'\n",
    "API_TOKEN = 'ATATT3xFfGF0AZlHcAKrpR_O7TbNg_WdSYz4FvyHKteQ8t9ldjkpz8rQhpq3x6DDP1SeBveFZjmI6WZH8CVr3apomkcyAeVvqSCwQzGpJsR6Rllpr9Fduw1BZ5pY6keY94AjP7ZEoWfReDhfrdJBVNQnRkOgDMRDUcgGrBzsIi5qLFslG9_OMHw=2CC6C0E5'\n",
    "EMAIL = 'jerish.nagappan@hashagile.com'\n",
    "\n",
    "ISSUE_KEY = 'SNOW-1'\n",
    "\n",
    "\n",
    "LABELS = ['bug', 'new']\n",
    "\n",
    "\n",
    "UPDATE_ISSUE_URL = f'https://{JIRA_DOMAIN}/rest/api/3/issue/{ISSUE_KEY}'\n",
    "\n",
    "\n",
    "issue_data = {\n",
    "    \"fields\": {\n",
    "        \"labels\": LABELS\n",
    "    }\n",
    "}\n",
    "\n",
    "def update_issue_labels():\n",
    "    \"\"\"Update the labels of an existing Jira issue.\"\"\"\n",
    "    headers = {\n",
    "        'Content-Type': 'application/json'\n",
    "    }\n",
    "    response = requests.put(\n",
    "        UPDATE_ISSUE_URL,\n",
    "        auth=HTTPBasicAuth(EMAIL, API_TOKEN),\n",
    "        headers=headers,\n",
    "        data=json.dumps(issue_data)\n",
    "    )\n",
    "    if response.status_code == 204:\n",
    "        print(\"Labels updated successfully.\")\n",
    "    else:\n",
    "        print(f\"Failed to update labels: {response.status_code}\")\n",
    "        print(response.json())\n",
    "\n",
    "if __name__ == '__main__':\n",
    "    update_issue_labels()\n"
   ]
  },
  {
   "cell_type": "code",
   "execution_count": 8,
   "id": "54a3456f-0b9b-4250-82b9-a3bc82746716",
   "metadata": {},
   "outputs": [
    {
     "name": "stdout",
     "output_type": "stream",
     "text": [
      "Issue added to sprint successfully.\n"
     ]
    }
   ],
   "source": []
  },
  {
   "cell_type": "code",
   "execution_count": null,
   "id": "c9af00ee-be85-4493-b13a-fa5e1e401a98",
   "metadata": {},
   "outputs": [],
   "source": []
  }
 ],
 "metadata": {
  "kernelspec": {
   "display_name": "Python 3 (ipykernel)",
   "language": "python",
   "name": "python3"
  },
  "language_info": {
   "codemirror_mode": {
    "name": "ipython",
    "version": 3
   },
   "file_extension": ".py",
   "mimetype": "text/x-python",
   "name": "python",
   "nbconvert_exporter": "python",
   "pygments_lexer": "ipython3",
   "version": "3.12.4"
  }
 },
 "nbformat": 4,
 "nbformat_minor": 5
}
