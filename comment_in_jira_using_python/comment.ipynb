{
 "cells": [
  {
   "cell_type": "code",
   "execution_count": 7,
   "id": "ae1a99a4-4e48-406a-876c-c7318f864e03",
   "metadata": {},
   "outputs": [
    {
     "name": "stdout",
     "output_type": "stream",
     "text": [
      "Comment added successfully: 10003\n"
     ]
    }
   ],
   "source": [
    "import requests\n",
    "from requests.auth import HTTPBasicAuth\n",
    "import json\n",
    "\n",
    "\n",
    "JIRA_DOMAIN = 'hashagile-team.atlassian.net'\n",
    "API_TOKEN = 'ATATT3xFfGF0AZlHcAKrpR_O7TbNg_WdSYz4FvyHKteQ8t9ldjkpz8rQhpq3x6DDP1SeBveFZjmI6WZH8CVr3apomkcyAeVvqSCwQzGpJsR6Rllpr9Fduw1BZ5pY6keY94AjP7ZEoWfReDhfrdJBVNQnRkOgDMRDUcgGrBzsIi5qLFslG9_OMHw=2CC6C0E5'\n",
    "EMAIL = 'jerish.nagappan@hashagile.com'\n",
    "\n",
    "ISSUE_KEY = 'SNOW-1'  \n",
    "ADD_COMMENT_URL = f'https://{JIRA_DOMAIN}/rest/api/3/issue/{ISSUE_KEY}/comment'\n",
    "\n",
    "\n",
    "comment_data = {\n",
    "    \"body\": {\n",
    "        \"type\": \"doc\",\n",
    "        \"version\": 1,\n",
    "        \"content\": [\n",
    "            {\n",
    "                \"type\": \"paragraph\",\n",
    "                \"content\": [\n",
    "                    {\n",
    "                        \"type\": \"text\",\n",
    "                        \"text\": \"This is a comment added via the Jira API using ADF.\"\n",
    "                    }\n",
    "                ]\n",
    "            }\n",
    "        ]\n",
    "    }\n",
    "}\n",
    "\n",
    "def add_jira_comment():\n",
    "    \"\"\"Add a comment to an existing Jira issue.\"\"\"\n",
    "    headers = {\n",
    "        'Content-Type': 'application/json'\n",
    "    }\n",
    "    response = requests.post(\n",
    "        ADD_COMMENT_URL,\n",
    "        auth=HTTPBasicAuth(EMAIL, API_TOKEN),\n",
    "        headers=headers,\n",
    "        data=json.dumps(comment_data)  # Properly encode the comment data\n",
    "    )\n",
    "    if response.status_code == 201:\n",
    "        print(f\"Comment added successfully: {response.json()['id']}\")\n",
    "    else:\n",
    "        print(f\"Failed to add comment: {response.status_code}\")\n",
    "        print(response.json())\n",
    "\n",
    "if __name__ == '__main__':\n",
    "    add_jira_comment()\n"
   ]
  },
  {
   "cell_type": "code",
   "execution_count": null,
   "id": "0a17d55c-aa31-417c-8549-c79618a09491",
   "metadata": {},
   "outputs": [],
   "source": []
  }
 ],
 "metadata": {
  "kernelspec": {
   "display_name": "Python 3 (ipykernel)",
   "language": "python",
   "name": "python3"
  },
  "language_info": {
   "codemirror_mode": {
    "name": "ipython",
    "version": 3
   },
   "file_extension": ".py",
   "mimetype": "text/x-python",
   "name": "python",
   "nbconvert_exporter": "python",
   "pygments_lexer": "ipython3",
   "version": "3.12.4"
  }
 },
 "nbformat": 4,
 "nbformat_minor": 5
}
