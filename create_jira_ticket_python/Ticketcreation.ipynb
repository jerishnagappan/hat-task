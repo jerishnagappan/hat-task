{
 "cells": [
  {
   "cell_type": "code",
   "execution_count": 21,
   "id": "3ee380aa-0c32-4832-b0f3-3efb234f9091",
   "metadata": {},
   "outputs": [
    {
     "name": "stdout",
     "output_type": "stream",
     "text": [
      "Issue created successfully: SNOW-1\n"
     ]
    }
   ],
   "source": [
    "import requests\n",
    "from requests.auth import HTTPBasicAuth\n",
    "import json\n",
    "\n",
    "\n",
    "JIRA_DOMAIN = 'hashagile-team.atlassian.net'\n",
    "API_TOKEN = 'ATATT3xFfGF0AZlHcAKrpR_O7TbNg_WdSYz4FvyHKteQ8t9ldjkpz8rQhpq3x6DDP1SeBveFZjmI6WZH8CVr3apomkcyAeVvqSCwQzGpJsR6Rllpr9Fduw1BZ5pY6keY94AjP7ZEoWfReDhfrdJBVNQnRkOgDMRDUcgGrBzsIi5qLFslG9_OMHw=2CC6C0E5'\n",
    "EMAIL = 'jerish.nagappan@hashagile.com'\n",
    "\n",
    "\n",
    "CREATE_ISSUE_URL = f'https://{JIRA_DOMAIN}/rest/api/3/issue'\n",
    "\n",
    "\n",
    "issue_data = {\n",
    "    \"fields\": {\n",
    "        \"project\": {\n",
    "            \"key\": \"SNOW\"  \n",
    "        },\n",
    "        \"summary\": \"Issue Summary\",\n",
    "        \"description\": {\n",
    "            \"type\": \"doc\",\n",
    "            \"version\": 1,\n",
    "            \"content\": [\n",
    "                {\n",
    "                    \"type\": \"paragraph\",\n",
    "                    \"content\": [\n",
    "                        {\n",
    "                            \"type\": \"text\",\n",
    "                            \"text\": \"Detailed description of the issue.\"\n",
    "                        }\n",
    "                    ]\n",
    "                }\n",
    "            ]\n",
    "        },\n",
    "        \"issuetype\": {\n",
    "            \"name\": \"Bug\"  \n",
    "        }\n",
    "    }\n",
    "}\n",
    "\n",
    "def create_jira_issue():\n",
    "    \"\"\"Create a new issue in Jira.\"\"\"\n",
    "    headers = {\n",
    "        'Content-Type': 'application/json'\n",
    "    }\n",
    "    response = requests.post(\n",
    "        CREATE_ISSUE_URL,\n",
    "        auth=HTTPBasicAuth(EMAIL, API_TOKEN),\n",
    "        headers=headers,\n",
    "        data=json.dumps(issue_data)\n",
    "    )\n",
    "    if response.status_code == 201:\n",
    "        print(f\"Issue created successfully: {response.json()['key']}\")\n",
    "    else:\n",
    "        print(f\"Failed to create issue: {response.status_code}\")\n",
    "        print(response.json())\n",
    "\n",
    "if __name__ == '__main__':\n",
    "    create_jira_issue()\n"
   ]
  },
  {
   "cell_type": "code",
   "execution_count": null,
   "id": "90d99c32-465e-4876-bd35-0ae806b240b9",
   "metadata": {},
   "outputs": [],
   "source": []
  }
 ],
 "metadata": {
  "kernelspec": {
   "display_name": "Python 3 (ipykernel)",
   "language": "python",
   "name": "python3"
  },
  "language_info": {
   "codemirror_mode": {
    "name": "ipython",
    "version": 3
   },
   "file_extension": ".py",
   "mimetype": "text/x-python",
   "name": "python",
   "nbconvert_exporter": "python",
   "pygments_lexer": "ipython3",
   "version": "3.12.4"
  }
 },
 "nbformat": 4,
 "nbformat_minor": 5
}
