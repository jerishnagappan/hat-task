{
 "cells": [
  {
   "cell_type": "code",
   "execution_count": 7,
   "id": "ee0a9f83-1d73-4757-91bb-55a5db82dd1c",
   "metadata": {},
   "outputs": [
    {
     "name": "stdout",
     "output_type": "stream",
     "text": [
      "Issue updated successfully.\n"
     ]
    }
   ],
   "source": [
    "import requests\n",
    "from requests.auth import HTTPBasicAuth\n",
    "import json\n",
    "\n",
    "# Configuration\n",
    "JIRA_DOMAIN = 'hashagile-team.atlassian.net'\n",
    "API_TOKEN = 'ATATT3xFfGF0AZlHcAKrpR_O7TbNg_WdSYz4FvyHKteQ8t9ldjkpz8rQhpq3x6DDP1SeBveFZjmI6WZH8CVr3apomkcyAeVvqSCwQzGpJsR6Rllpr9Fduw1BZ5pY6keY94AjP7ZEoWfReDhfrdJBVNQnRkOgDMRDUcgGrBzsIi5qLFslG9_OMHw=2CC6C0E5'\n",
    "EMAIL = 'jerish.nagappan@hashagile.com'\n",
    "\n",
    "\n",
    "ISSUE_KEY = 'SNOW-1'  \n",
    "UPDATE_ISSUE_URL = f'https://{JIRA_DOMAIN}/rest/api/3/issue/{ISSUE_KEY}'\n",
    "\n",
    "\n",
    "update_data = {\n",
    "    \"fields\": {\n",
    "        \"summary\": \"Updated Issuess Summary\",\n",
    "        \"description\": {\n",
    "            \"type\": \"doc\",\n",
    "            \"version\": 1,\n",
    "            \"content\": [\n",
    "                {\n",
    "                    \"type\": \"paragraph\",\n",
    "                    \"content\": [\n",
    "                        {\n",
    "                            \"type\": \"text\",\n",
    "                            \"text\": \"This is the  description of the issues we have to solve.\"\n",
    "                        }\n",
    "                    ]\n",
    "                }\n",
    "            ]\n",
    "        }\n",
    "        \n",
    "    }\n",
    "}\n",
    "\n",
    "def update_jira_issue():\n",
    "    \"\"\"Update an existing issue in Jira.\"\"\"\n",
    "    headers = {\n",
    "        'Content-Type': 'application/json'\n",
    "    }\n",
    "    response = requests.put(\n",
    "        UPDATE_ISSUE_URL,\n",
    "        auth=HTTPBasicAuth(EMAIL, API_TOKEN),\n",
    "        headers=headers,\n",
    "        data=json.dumps(update_data)\n",
    "    )\n",
    "    if response.status_code == 204:\n",
    "        print(f\"Issue updated successfully.\")\n",
    "    else:\n",
    "        print(f\"Failed to update issue: {response.status_code}\")\n",
    "        print(response.json())\n",
    "\n",
    "if __name__ == '__main__':\n",
    "    update_jira_issue()\n"
   ]
  },
  {
   "cell_type": "code",
   "execution_count": null,
   "id": "fc67f13b-f2f2-4433-a162-02f2eaa45e39",
   "metadata": {},
   "outputs": [],
   "source": []
  }
 ],
 "metadata": {
  "kernelspec": {
   "display_name": "Python 3 (ipykernel)",
   "language": "python",
   "name": "python3"
  },
  "language_info": {
   "codemirror_mode": {
    "name": "ipython",
    "version": 3
   },
   "file_extension": ".py",
   "mimetype": "text/x-python",
   "name": "python",
   "nbconvert_exporter": "python",
   "pygments_lexer": "ipython3",
   "version": "3.12.4"
  }
 },
 "nbformat": 4,
 "nbformat_minor": 5
}
